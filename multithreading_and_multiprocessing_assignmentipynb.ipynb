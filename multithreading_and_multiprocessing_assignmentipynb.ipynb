{
  "nbformat": 4,
  "nbformat_minor": 0,
  "metadata": {
    "colab": {
      "provenance": []
    },
    "kernelspec": {
      "name": "python3",
      "display_name": "Python 3"
    },
    "language_info": {
      "name": "python"
    }
  },
  "cells": [
    {
      "cell_type": "markdown",
      "source": [
        "1.  What is the difference between interpreted and compiled language?\n",
        "- interpreted language are those language which dont need any compiler and execute the code one by one    ,eg python\n",
        "\n",
        "- compiled language = these are those language which need compiler to convert programing language into machine language and runs the code entirely at a time eg c,c#\n"
      ],
      "metadata": {
        "id": "LoJnfFxmsC5R"
      }
    },
    {
      "cell_type": "markdown",
      "source": [
        "2. What is exception handling in Python?\n",
        "- exception handling is used to detect the exception in a code and if a exception is occured than code will  except and  execute a given code."
      ],
      "metadata": {
        "id": "LyYN3Y09sC8X"
      }
    },
    {
      "cell_type": "markdown",
      "source": [
        "3.what is use of finally block in exception handling ?\n",
        "The finally block in Python always executes, regardless of whether an exception occurs. It is used for cleanup operations like closing files, releasing resources, or disconnecting from databases."
      ],
      "metadata": {
        "id": "fR5nI8ZhsVoA"
      }
    },
    {
      "cell_type": "markdown",
      "source": [
        "4.What is logging in Python?\n",
        "\n",
        "Logging in Python is used to track events in a program, which helps with debugging and monitoring. The logging module allows developers to record messages with different severity levels:\n",
        "\n",
        "DEBUG – Detailed information, useful for debugging.\n",
        "INFO – General information on program execution.\n",
        "WARNING – Indicates a potential issue.\n",
        "ERROR – Records serious errors.\n",
        "CRITICAL – A critical failure, requiring immediate attention."
      ],
      "metadata": {
        "id": "kiAJTSP8sV8e"
      }
    },
    {
      "cell_type": "markdown",
      "source": [
        "5. What is the significance of the __del__ method in Python?\n",
        "The __del__ method (destructor) is called when an object is about to be destroyed. It is mainly used for cleanup tasks like closing database connections or releasing resources."
      ],
      "metadata": {
        "id": "X5i5EWR0TImL"
      }
    },
    {
      "cell_type": "markdown",
      "source": [
        "6.  What is the difference between import and from ... import in Python?\n",
        "- import is used to import a particual module in python\n",
        "whereas from..import is used  to import a particular function from a module"
      ],
      "metadata": {
        "id": "SOHs85cbTIjC"
      }
    },
    {
      "cell_type": "markdown",
      "source": [
        "7. How can you handle multiple exceptions in Python?\n",
        "\n",
        " -You can handle multiple exceptions using multiple except blocks or a single except with a tuple."
      ],
      "metadata": {
        "id": "Q84jeuI7TIfz"
      }
    },
    {
      "cell_type": "markdown",
      "source": [
        "8.  What is the purpose of the with statement when handling files in Python?\n",
        "The with statement automatically manages file handling by ensuring that the file is closed properly after the block is executed."
      ],
      "metadata": {
        "id": "rCQQCYLBTIdL"
      }
    },
    {
      "cell_type": "markdown",
      "source": [
        "9.  What is the difference between multithreading and multiprocessing?\n",
        "- multithreading is use of multiple threads  for a code and it run cuncurently\n",
        "multiprocessing is used to run a code parallay in many processors\n"
      ],
      "metadata": {
        "id": "8s3AFa-4TIag"
      }
    },
    {
      "cell_type": "markdown",
      "source": [
        "10. What are the advantages of using logging in a program?\n",
        " Debugging Aid → Helps identify issues in code execution.\n",
        " Maintains Records → Saves logs for audits and monitoring.\n",
        " Different Log Levels → Can log INFO, ERROR, DEBUG, etc.\n",
        "  File Logging → Stores logs in a file for later analysis.\n",
        "  Customization → Allows formatting and log rotation."
      ],
      "metadata": {
        "id": "PPTAjk6OTIXp"
      }
    },
    {
      "cell_type": "markdown",
      "source": [
        "11.What is memory management in Python?\n",
        "\n",
        "\n",
        " Memory management in Python refers to how Python allocates, tracks, and frees memory for objects and variables. It includes:\n",
        "\n",
        "Reference Counting – Objects are automatically deallocated when their reference count drops to zero.\n",
        "Garbage Collection (GC) – Removes unused objects from memory.\n",
        "Memory Pools – Python uses memory pools (like PyMalloc) for efficient allocation."
      ],
      "metadata": {
        "id": "qJhRYnszajS0"
      }
    },
    {
      "cell_type": "markdown",
      "source": [
        "12. What are the basic steps involved in exception handling in Python?\n",
        "\n",
        "basic steps in exception handling is\n",
        "try:\n",
        "except:\n",
        "else:\n",
        "finally:"
      ],
      "metadata": {
        "id": "FUJXYa7MajPy"
      }
    },
    {
      "cell_type": "markdown",
      "source": [
        "13. Why is memory management important in Python?\n",
        "Prevents memory leaks → Frees unused memory.\n",
        " Optimizes performance → Avoids excessive memory usage.\n",
        " Improves scalability → Handles large datasets efficiently.\n",
        " Ensures stability → Reduces crashes due to memory exhaustion."
      ],
      "metadata": {
        "id": "RE4HnG2bajNE"
      }
    },
    {
      "cell_type": "markdown",
      "source": [
        "14.  What is the role of try and except in exception handling?\n",
        "try → Contains code that might cause an exception.\n",
        "except → Catches and handles exceptions to prevent crashes"
      ],
      "metadata": {
        "id": "TdQ1qVCSajGS"
      }
    },
    {
      "cell_type": "markdown",
      "source": [
        "15. How does Python's garbage collection system work?\n",
        "hon’s garbage collector (GC) automatically frees up memory by:\n",
        "\n",
        "Reference Counting – An object is deleted when no references remain.\n",
        "Cyclic Garbage Collection – Detects and removes cyclic references."
      ],
      "metadata": {
        "id": "X72q_7ykajEG"
      }
    },
    {
      "cell_type": "markdown",
      "source": [
        "16.  What is the purpose of the else block in exception handling?\n",
        " - else block is used to  execute the code if the   except block fails"
      ],
      "metadata": {
        "id": "MKfMu7zaajCJ"
      }
    },
    {
      "cell_type": "markdown",
      "source": [
        "17. What are the common logging levels in Python?\n",
        "the common logging levels are\n",
        "\n",
        "DEBUG\n",
        "INFO\n",
        "ERROR\n",
        "WARNING\n",
        "CRITICAL"
      ],
      "metadata": {
        "id": "lgKAR1bMai_i"
      }
    },
    {
      "cell_type": "markdown",
      "source": [
        "18 What is the difference between os.fork() and multiprocessing in Python?\n",
        "\n",
        "The difference between os.fork() and multiprocessing in Python lies in how they create and manage new processes. Here's a detailed comparison:\n",
        "\n",
        "🔹 os.fork()\n",
        "os.fork() creates a child process by duplicating the parent process.\n",
        "The child process shares memory with the parent process.\n",
        "It is only available on Unix-based systems.\n",
        "It is a low-level system call and is not suitable for cross-platform applications.\n"
      ],
      "metadata": {
        "id": "ngcxIY3dai8y"
      }
    },
    {
      "cell_type": "markdown",
      "source": [
        "19. what is the use of closing of file\n",
        "the closing of file takes place to plotect from the file corruption AND  FILE  locking"
      ],
      "metadata": {
        "id": "IkeExaegai4U"
      }
    },
    {
      "cell_type": "markdown",
      "source": [
        "20.  What is the difference between file.read() and file.readline() in Python?\n",
        " file.read()\n",
        "Reads the entire file as a single string.\n",
        "If given an argument (file.read(n)), it reads n bytes/characters from the file.\n",
        "Not memory-efficient for large files since it loads everything into memory.\n",
        "\n",
        " file.readline()\n",
        "Reads only one line at a time.\n",
        "Keeps the file pointer open, allowing you to read the next line on the next call.\n",
        "More memory-efficient for large files."
      ],
      "metadata": {
        "id": "cMnEi-q8ai0M"
      }
    },
    {
      "cell_type": "markdown",
      "source": [
        "21.  What is the logging module in Python used for?\n",
        "The logging module in Python is used to record messages about the execution of a program. It helps with:\n",
        " Debugging – Identify issues in the code.\n",
        " Monitoring – Track events during execution.\n",
        " Error Reporting – Log exceptions and errors.\n",
        " Performance Analysis – Analyze execution flow and system behav"
      ],
      "metadata": {
        "id": "SlBANlk4TIR6"
      }
    },
    {
      "cell_type": "markdown",
      "source": [
        "22. What is the os module in Python used for in file handling?\n",
        "     \n",
        "     The os module in Python provides functions to interact with the operating system, including file handling operations such as creating, deleting, renaming, and checking files or directories.\n",
        "\n"
      ],
      "metadata": {
        "id": "iXGzeUFkjnSM"
      }
    },
    {
      "cell_type": "markdown",
      "source": [
        "23.What are the challenges associated with memory management in Python?\n",
        "Python uses automatic memory management, but several challenges arise due to its dynamic typing, garbage collection, and reference counting. Here are some key challenges"
      ],
      "metadata": {
        "id": "TKViiFYbjoZS"
      }
    },
    {
      "cell_type": "markdown",
      "source": [
        "24. How do you raise an exception manually in Python?\n",
        "In Python, you can manually raise an exception using the raise statement. This is useful when you want to enforce custom error handling or validate conditions in your cod"
      ],
      "metadata": {
        "id": "CDXWneQzjoOM"
      }
    },
    {
      "cell_type": "markdown",
      "source": [
        "25. Why is it important to use multithreading in certain applications?\n",
        "to minimise the tiime of running the code which are interconnected with each other"
      ],
      "metadata": {
        "id": "tMVsWxSClSYa"
      }
    },
    {
      "cell_type": "code",
      "source": [
        "#1. How can you open a file for writing in Python and write a string to it ?\n",
        "with open(\"newfile.text\",\"w\") as file:\n",
        "  file.write(\"this text file is the example for write mode in file handling\")\n",
        "\n",
        "with open(\"newfile.text\",\"r\") as file:\n",
        "  file.seek(0)\n",
        "  print(file.read())"
      ],
      "metadata": {
        "colab": {
          "base_uri": "https://localhost:8080/"
        },
        "id": "xAg0tflFsDYo",
        "outputId": "8eb9e552-a773-4e6b-b737-06d6bd4dcb99"
      },
      "execution_count": null,
      "outputs": [
        {
          "output_type": "stream",
          "name": "stdout",
          "text": [
            "this text file is the example for write mode in file handling\n"
          ]
        }
      ]
    },
    {
      "cell_type": "code",
      "source": [
        "#2. Write a Python program to read the contents of a file and print each line?\n",
        "with open(\"nextfile.text\",\"a\") as f:\n",
        "  f.write(\"and now we are using the concept of file appending \\n\")\n",
        "\n",
        "with open(\"nextfile.text\",\"r\")as file:\n",
        "   for i in file:\n",
        "    print(i)"
      ],
      "metadata": {
        "colab": {
          "base_uri": "https://localhost:8080/"
        },
        "id": "-EPxdeZdsDbn",
        "outputId": "97356493-e6d8-47fb-a0be-9d145e2a5387"
      },
      "execution_count": null,
      "outputs": [
        {
          "output_type": "stream",
          "name": "stdout",
          "text": [
            "\n",
            "\n",
            "and now we are using the concept of file appending \n",
            "\n",
            "\n",
            "\n",
            "and now we are using the concept of file appending \n",
            "\n",
            "and now we are using the concept of file appending \n",
            "\n"
          ]
        }
      ]
    },
    {
      "cell_type": "code",
      "source": [
        "#3. How would you handle a case where the file doesn't exist while trying to open it for reading?\n",
        "\n",
        "try:\n",
        "   with open(\"databasefile.text\",\"r\")as f:\n",
        "     for i in f:\n",
        "      print(i)\n",
        "\n",
        "except Exception as e:\n",
        "  print(\"the error has occured \",e)"
      ],
      "metadata": {
        "colab": {
          "base_uri": "https://localhost:8080/"
        },
        "id": "-_HQuLs4sDeQ",
        "outputId": "114843c6-744b-4801-da80-fee4ac3d34a3"
      },
      "execution_count": null,
      "outputs": [
        {
          "output_type": "stream",
          "name": "stdout",
          "text": [
            "the error has occured  [Errno 2] No such file or directory: 'databasefile.text'\n"
          ]
        }
      ]
    },
    {
      "cell_type": "code",
      "source": [
        "#4.Write a Python script that reads from one file and writes its content to another file?\n",
        "\n",
        "import shutil\n",
        "import os\n",
        "os.mkdir(\"nitish\")\n",
        "\n",
        "with  open(\"examplefile.text\",\"w\") as f:\n",
        "   shutil.copy(\"newfile.text\",\"examplefile.text\")\n",
        "\n",
        "\n",
        "with  open(\"examplefile.text\",\"r\") as f:\n",
        "  for i in f:\n",
        "    print(i)"
      ],
      "metadata": {
        "id": "n-Kwze9usDhP"
      },
      "execution_count": null,
      "outputs": []
    },
    {
      "cell_type": "code",
      "source": [
        "#5. How would you catch and handle division by zero error in Python?\n",
        "try:\n",
        "  f = 12/0\n",
        "except Exception as e:\n",
        "  print(\"the error is called\",e,\"error\")\n",
        "\n",
        "\n",
        "else:\n",
        "  print(\"we can divide any number by 0\")"
      ],
      "metadata": {
        "colab": {
          "base_uri": "https://localhost:8080/"
        },
        "id": "wIvAlQJEsDkP",
        "outputId": "7448aac0-7c0c-4f77-fc4a-7ed55b9a262e"
      },
      "execution_count": null,
      "outputs": [
        {
          "output_type": "stream",
          "name": "stdout",
          "text": [
            "the error is called division by zero error\n"
          ]
        }
      ]
    },
    {
      "cell_type": "code",
      "source": [
        "#6. Write a Python program that logs an error message to a log file when a division by zero exception occurs  ?\n",
        "\n",
        "import logging\n",
        "logging.basicConfig(filename = \"nextfile.log\", level =logging.INFO, format = \"%(asctime)s -%(levelname)s-%(message)s\")\n",
        "\n",
        "try:\n",
        "  f = 12/0\n",
        "  logging.info(\"we can get the error here\")\n",
        "except Exception as e:\n",
        "  print(\"this error is called\",e)\n",
        "\n",
        "  logging.error(\"tried to divide by 0  so the error occured\")\n",
        "\n",
        "else:\n",
        "  print(\"never divide any number with 0\")\n",
        "\n",
        "\n",
        "logging.error(\"never divide any number with 0\")\n"
      ],
      "metadata": {
        "colab": {
          "base_uri": "https://localhost:8080/"
        },
        "id": "wiwu1SiCsDnB",
        "outputId": "37912f2d-059a-40d0-8b87-052c6f519f84"
      },
      "execution_count": null,
      "outputs": [
        {
          "output_type": "stream",
          "name": "stderr",
          "text": [
            "ERROR:root:tried to divide by 0  so the error occured\n",
            "ERROR:root:never divide any number with 0\n"
          ]
        },
        {
          "output_type": "stream",
          "name": "stdout",
          "text": [
            "this error is called division by zero\n"
          ]
        }
      ]
    },
    {
      "cell_type": "code",
      "source": [
        "#7. How do you log information at different levels (INFO, ERROR, WARNING) in Python using the logging module ?\n",
        "\n",
        "import logging\n",
        "logging.basicConfig(filename=\"nextfile.log\", level = logging.DEBUG, format = \"%(asctime)s - %(levelname)s - %(message)s\")\n",
        "\n",
        "\n",
        "try:\n",
        "  with open(\"ayush.txt\",\"r\") as f:\n",
        "    pass\n",
        "\n",
        "except Exception as e:\n",
        "  print(\"the error occured is called\",e)\n",
        "  logging.error(\"the file handling error\")\n",
        "\n",
        "finally:\n",
        "  logging.shutdown()\n",
        "  print(\"we cannt read a non defined file\")"
      ],
      "metadata": {
        "colab": {
          "base_uri": "https://localhost:8080/"
        },
        "id": "iRCgPEFo4i2z",
        "outputId": "16dc69ce-9b35-4de5-ca20-ba15b8168895"
      },
      "execution_count": null,
      "outputs": [
        {
          "output_type": "stream",
          "name": "stderr",
          "text": [
            "ERROR:root:the file handling error\n"
          ]
        },
        {
          "output_type": "stream",
          "name": "stdout",
          "text": [
            "the error occured is called [Errno 2] No such file or directory: 'ayush.txt'\n",
            "we cannt read a non defined file\n"
          ]
        }
      ]
    },
    {
      "cell_type": "code",
      "source": [
        "#8. Write a program to handle a file opening error using exception handling ?\n",
        "try:\n",
        "    with open(\"non_existent_file.txt\", \"r\") as file:\n",
        "        content = file.read()\n",
        "        print(content)\n",
        "except Exception as e:\n",
        "    print(f\"An unexpected error occurred: {e}\")\n",
        "finally:\n",
        "    print(\"File handling operation completed.\")\n"
      ],
      "metadata": {
        "colab": {
          "base_uri": "https://localhost:8080/"
        },
        "id": "oq35wUL34izR",
        "outputId": "268c4578-0c7f-48b5-8ea6-f1b4b7204657"
      },
      "execution_count": null,
      "outputs": [
        {
          "output_type": "stream",
          "name": "stdout",
          "text": [
            "An unexpected error occurred: [Errno 2] No such file or directory: 'non_existent_file.txt'\n",
            "File handling operation completed.\n"
          ]
        }
      ]
    },
    {
      "cell_type": "code",
      "source": [
        "#9. How can you read a file line by line and store its content in a list in Python ?\n",
        "\n",
        "lines = []\n",
        "\n",
        "with open(\"nextfile.text\", \"r\") as file:\n",
        "    for line in file:\n",
        "        lines.append(line.strip())\n",
        "\n",
        "print(lines)"
      ],
      "metadata": {
        "colab": {
          "base_uri": "https://localhost:8080/"
        },
        "id": "EA2GkE6b4iwK",
        "outputId": "3a5e5999-d724-44be-d8e9-a289550fa65e"
      },
      "execution_count": null,
      "outputs": [
        {
          "output_type": "stream",
          "name": "stdout",
          "text": [
            "['', 'and now we are using the concept of file appending', '', 'and now we are using the concept of file appending', 'and now we are using the concept of file appending']\n"
          ]
        }
      ]
    },
    {
      "cell_type": "code",
      "source": [
        "#10.How can you append data to an existing file in Python ?\n",
        "with open(\"nextfile.text\",\"a\") as f:\n",
        "  f.write(\"this is my new line in the file\")\n",
        "\n",
        "with open(\"nextfile.text\",\"r\") as f:\n",
        "  f.seek(0)\n",
        "  print(f.read())"
      ],
      "metadata": {
        "id": "29xRL0-d4isx",
        "colab": {
          "base_uri": "https://localhost:8080/"
        },
        "outputId": "2d800bf1-4d70-45fb-fb08-7de080fa9b44"
      },
      "execution_count": 1,
      "outputs": [
        {
          "output_type": "stream",
          "name": "stdout",
          "text": [
            "this is my new line in the file\n"
          ]
        }
      ]
    },
    {
      "cell_type": "code",
      "source": [
        "#11.  Write a Python program that uses a try-except block to handle an error when attempting to access a\n",
        "#dictionary key that doesn't exist\n",
        "\n",
        "import logging\n",
        "\n",
        "logging.basicConfig( filename = \"nextfile.log\", levels = logging.INFO, format = \"%(asctime)s -%(level)s -%(message)s\")\n",
        "try:\n",
        " dict = {\"name\":[\"nitish\",\"kumar\",\"aalu\"],\"age\":[20,34,21]}\n",
        " dict[\"salary\"]\n",
        "except Exception as e:\n",
        "  logging.error(\"here we are going to face error\")\n",
        "  print(\"the error is called\",e)\n",
        "\n",
        "finally:\n",
        "  logging.info(\"the code is about dictonary\")\n",
        "  print(\" we cannt ascess any non defined key and it will cause key error\")\n",
        "\n"
      ],
      "metadata": {
        "id": "uyOWVqik4ioT",
        "colab": {
          "base_uri": "https://localhost:8080/"
        },
        "outputId": "14ea2499-7b76-441a-e821-cc27ea65015f"
      },
      "execution_count": 13,
      "outputs": [
        {
          "output_type": "stream",
          "name": "stderr",
          "text": [
            "ERROR:root:here we are going to face error\n"
          ]
        },
        {
          "output_type": "stream",
          "name": "stdout",
          "text": [
            "the error is called 'salary'\n",
            " we cannt ascess any non defined key and it will cause key error\n"
          ]
        }
      ]
    },
    {
      "cell_type": "code",
      "source": [
        "#12. Write a program that demonstrates using multiple except blocks to handle different types of exceptions\n",
        "\n",
        "import logging\n",
        "logging.basicConfig(filename = \"nextfile.log\", levels= logging.DEBUG , format = \"%(asctime)s-%(level)s_%(message)s\")\n",
        "\n",
        "try:\n",
        "   num1 = int(input(\"enter the numerator\"))\n",
        "   num2 = int(input(\"enter the denominator\"))\n",
        "   result = num1/num2\n",
        "   print(\"result =\",result)\n",
        "\n",
        "except ValueError:\n",
        "  print(\"the error is called value error and print a integer value\")\n",
        "  logging.error(\"the error has occured\")\n",
        "\n",
        "except ZeroDivisionError:\n",
        "  print(\"the error is due to you used number 2 as 0\")\n",
        "  logging.warning(\"the division by 0 is not possible\")\n",
        "\n",
        "except Exception as e:\n",
        "  print(\"the exception is\", e)\n",
        "\n",
        "finally:\n",
        "  logging.shutdown()\n",
        "  print(\"must put valid data\")"
      ],
      "metadata": {
        "colab": {
          "base_uri": "https://localhost:8080/"
        },
        "id": "HR2o3kqHVtJZ",
        "outputId": "3a1e3fa7-ca4a-442e-999a-8a5ec73c7810"
      },
      "execution_count": 10,
      "outputs": [
        {
          "output_type": "stream",
          "name": "stdout",
          "text": [
            "enter the numerator13\n",
            "enter the denominator4\n",
            "result = 3.25\n",
            "put valid data\n"
          ]
        }
      ]
    },
    {
      "cell_type": "code",
      "source": [
        "#13 How would you check if a file exists before attempting to read it in Python ?\n",
        "\n",
        "import os\n",
        "\n",
        "print(os.getcwdb)\n",
        "\n",
        "if os.path.exists(\"nextfile.text\"):\n",
        "  with open(\"nextfile.text\",\"r\") as f:\n",
        "    for i in f:\n",
        "      print(i)\n"
      ],
      "metadata": {
        "colab": {
          "base_uri": "https://localhost:8080/"
        },
        "id": "KveJrnjKVtHI",
        "outputId": "873505f8-1a27-480e-e3ba-fd57c9dd9988"
      },
      "execution_count": 27,
      "outputs": [
        {
          "output_type": "stream",
          "name": "stdout",
          "text": [
            "<built-in function getcwdb>\n",
            "this is my new line in the file\n"
          ]
        }
      ]
    },
    {
      "cell_type": "code",
      "source": [
        "#14.  Write a program that uses the logging module to log both informational and error messages\n",
        "import logging\n",
        "\n",
        "logging.basicConfig( filename = \"nextfile.log\", levels = logging.INFO, format = \"%(asctime)s -%(level)s -%(message)s\")\n",
        "try:\n",
        " dict = {\"name\":[\"nitish\",\"kumar\",\"aalu\"],\"age\":[20,34,21]}\n",
        " dict[\"salary\"]\n",
        "except Exception as e:\n",
        "  logging.error(\"here we are going to face error\")\n",
        "  print(\"the error is called\",e)\n",
        "\n",
        "finally:\n",
        "  logging.info(\"the code is about dictonary\")\n",
        "  print(\" we cannt ascess any non defined key and it will cause key error\")"
      ],
      "metadata": {
        "colab": {
          "base_uri": "https://localhost:8080/"
        },
        "id": "cDNtZstOVtES",
        "outputId": "f0185d36-77e1-4588-b9ce-96436690047a"
      },
      "execution_count": 26,
      "outputs": [
        {
          "output_type": "stream",
          "name": "stderr",
          "text": [
            "ERROR:root:here we are going to face error\n"
          ]
        },
        {
          "output_type": "stream",
          "name": "stdout",
          "text": [
            "the error is called 'salary'\n",
            " we cannt ascess any non defined key and it will cause key error\n"
          ]
        }
      ]
    },
    {
      "cell_type": "code",
      "source": [
        "#15  Write a Python program that prints the content of a file and handles the case when the file is empty\n",
        "import os\n",
        "\n",
        "with open(\"nextfile.text\",\"r\") as f:\n",
        "    for i in f:\n",
        "      print(f)\n",
        "try:\n",
        "\n",
        "    if os.getsize(\"nextfile.text\")==0:\n",
        "      print(\" the file is empty\")\n",
        "    else:\n",
        "      pass\n",
        "\n",
        "except Exception as e:\n",
        "  print(\"the error is called\",e)"
      ],
      "metadata": {
        "colab": {
          "base_uri": "https://localhost:8080/"
        },
        "id": "uiXXEUXBVtBh",
        "outputId": "1da52abe-ef8f-46e2-a57a-9879771e0d30"
      },
      "execution_count": 25,
      "outputs": [
        {
          "output_type": "stream",
          "name": "stdout",
          "text": [
            "<_io.TextIOWrapper name='nextfile.text' mode='r' encoding='UTF-8'>\n",
            "the error is called module 'os' has no attribute 'getsize'\n"
          ]
        }
      ]
    },
    {
      "cell_type": "code",
      "source": [
        "#16. Demonstrate how to use memory profiling to check the memory usage of a small program\n",
        "\n"
      ],
      "metadata": {
        "id": "Ja1gbLFKVs_K"
      },
      "execution_count": null,
      "outputs": []
    },
    {
      "cell_type": "code",
      "source": [
        "#17  Write a Python program to create and write a list of numbers to a file, one number per line\n",
        "\n",
        "numbers = [1, 2, 3, 4, 5, 6, 7, 8, 9, 10]\n",
        "\n",
        "\n",
        "file_path = \"numbers.txt\"\n",
        "\n",
        "with open(file_path, \"w\") as file:\n",
        "    for number in numbers:\n",
        "        file.write(f\"{number}\\n\")\n",
        "\n",
        "print(f\"Numbers written to {file_path}\")\n"
      ],
      "metadata": {
        "colab": {
          "base_uri": "https://localhost:8080/"
        },
        "id": "MmMjvTYmVs8T",
        "outputId": "fa8d9b81-4666-4fcb-a33e-983788ab7748"
      },
      "execution_count": 15,
      "outputs": [
        {
          "output_type": "stream",
          "name": "stdout",
          "text": [
            "Numbers written to numbers.txt\n"
          ]
        }
      ]
    },
    {
      "cell_type": "code",
      "source": [
        "#18.How would you implement a basic logging setup that logs to a file with rotation after 1MB?\n",
        "import logging\n",
        "from logging.handlers import RotatingFileHandler\n",
        "log_file = \"app.log\"\n",
        "\n",
        "logger = logging.getLogger(\"RotatingLogger\")\n",
        "logger.setLevel(logging.INFO)\n",
        "\n",
        "handler = RotatingFileHandler(log_file, maxBytes=1_000_000, backupCount=3)\n",
        "\n",
        "\n",
        "formatter = logging.Formatter('%(asctime)s - %(levelname)s - %(message)s')\n",
        "handler.setFormatter(formatter)\n",
        "logger.addHandler(handler)\n",
        "\n",
        "\n"
      ],
      "metadata": {
        "id": "BBPnrI0JVs5R"
      },
      "execution_count": 28,
      "outputs": []
    },
    {
      "cell_type": "code",
      "source": [
        "#19.  Write a program that handles both IndexError and KeyError using a try-except block?\n",
        "\n",
        "try:\n",
        "    # List operation that may raise IndexError\n",
        "    my_list = [1, 2, 3]\n",
        "    print(my_list[5])  # IndexError\n",
        "\n",
        "    # Dictionary operation that may raise KeyError\n",
        "    my_dict = {\"a\": 1, \"b\": 2}\n",
        "    print(my_dict[\"c\"])  # KeyError\n",
        "\n",
        "except IndexError:\n",
        "    print(\"IndexError: List index out of range.\")\n",
        "\n",
        "except KeyError:\n",
        "    print(\"KeyError: Specified key not found in dictionary.\")\n"
      ],
      "metadata": {
        "colab": {
          "base_uri": "https://localhost:8080/"
        },
        "id": "rxrHcLllVs2S",
        "outputId": "2d6ddf7a-9c6f-4e93-bb46-45be0dec30e8"
      },
      "execution_count": 24,
      "outputs": [
        {
          "output_type": "stream",
          "name": "stdout",
          "text": [
            "IndexError: List index out of range.\n"
          ]
        }
      ]
    },
    {
      "cell_type": "code",
      "source": [
        "#20.  How would you open a file and read its contents using a context manager in Python?\n",
        "file_path = \"nextfile.text\"\n",
        "\n",
        "with open(file_path, \"r\") as file:\n",
        "    content = file.read()\n",
        "\n",
        "print(content)\n"
      ],
      "metadata": {
        "colab": {
          "base_uri": "https://localhost:8080/"
        },
        "id": "NJkaL4_rVszK",
        "outputId": "9a4b0439-babe-4dc3-e2b1-caddf264f89c"
      },
      "execution_count": 23,
      "outputs": [
        {
          "output_type": "stream",
          "name": "stdout",
          "text": [
            "this is my new line in the file\n"
          ]
        }
      ]
    },
    {
      "cell_type": "code",
      "source": [
        "#21.  Write a Python program that reads a file and prints the number of occurrences of a specific word?\n",
        "def count_word_occurrences(file_path, word):\n",
        "    with open(file_path, \"r\") as file:\n",
        "        content = file.read()\n",
        "\n",
        "    return content.lower().split().count(word.lower())\n",
        "\n",
        "\n",
        "file_path = \"nextfile.text\"\n",
        "word = \"Python\"\n",
        "print(f\"Occurrences of '{word}': {count_word_occurrences(file_path, word)}\")\n"
      ],
      "metadata": {
        "colab": {
          "base_uri": "https://localhost:8080/"
        },
        "id": "2jbYHTN6Vstj",
        "outputId": "981006dc-3d09-4472-cc0c-fc298fcd65c8"
      },
      "execution_count": 21,
      "outputs": [
        {
          "output_type": "stream",
          "name": "stdout",
          "text": [
            "Occurrences of 'Python': 0\n"
          ]
        }
      ]
    },
    {
      "cell_type": "code",
      "source": [
        "#22. How can you check if a file is empty before attempting to read its contents ?\n",
        "import os\n",
        "\n",
        "if  os.path.getsize(\"nextfile.text\") > 0:\n",
        "    with open(file_path, \"r\") as file:\n",
        "        content = file.read()\n",
        "        print(content)\n",
        "else:\n",
        "    print(\"File is empty or does not exist.\")\n"
      ],
      "metadata": {
        "colab": {
          "base_uri": "https://localhost:8080/"
        },
        "id": "_oSqN7tYqIUz",
        "outputId": "bf555c62-0ffa-432f-82b0-519f2077c510"
      },
      "execution_count": 20,
      "outputs": [
        {
          "output_type": "stream",
          "name": "stdout",
          "text": [
            "this is my new line in the file\n"
          ]
        }
      ]
    },
    {
      "cell_type": "code",
      "source": [
        "#23.  Write a Python program that writes to a log file when an error occurs during file handling ?\n",
        "import logging\n",
        "\n",
        "\n",
        "logging.basicConfig(filename=\"nextfile.log\", level=logging.ERROR,\n",
        "                    format=\"%(asctime)s - %(levelname)s - %(message)s\")\n",
        "\n",
        "try:\n",
        "    with open(\"nextfile.text\", \"r\") as file:\n",
        "        content = file.read()\n",
        "except Exception as e:\n",
        "    logging.error(f\"An error occurred: {e}\")\n",
        "    print(\"An error occurred. Check error.log for details.\")\n"
      ],
      "metadata": {
        "id": "m6jymEoXqIOa"
      },
      "execution_count": 19,
      "outputs": []
    },
    {
      "cell_type": "code",
      "source": [],
      "metadata": {
        "id": "jjPoRbUuqIIu"
      },
      "execution_count": null,
      "outputs": []
    }
  ]
}